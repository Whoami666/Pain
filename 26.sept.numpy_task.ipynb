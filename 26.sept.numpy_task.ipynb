{
  "nbformat": 4,
  "nbformat_minor": 0,
  "metadata": {
    "kernelspec": {
      "display_name": "Python 3",
      "language": "python",
      "name": "python3"
    },
    "language_info": {
      "codemirror_mode": {
        "name": "ipython",
        "version": 3
      },
      "file_extension": ".py",
      "mimetype": "text/x-python",
      "name": "python",
      "nbconvert_exporter": "python",
      "pygments_lexer": "ipython3",
      "version": "3.6.4"
    },
    "colab": {
      "name": "Copy of Copy of numpy_task.ipynb",
      "provenance": [],
      "include_colab_link": true
    }
  },
  "cells": [
    {
      "cell_type": "markdown",
      "metadata": {
        "id": "view-in-github",
        "colab_type": "text"
      },
      "source": [
        "<a href=\"https://colab.research.google.com/github/Whoami666/Pain/blob/master/26.sept.numpy_task.ipynb\" target=\"_parent\"><img src=\"https://colab.research.google.com/assets/colab-badge.svg\" alt=\"Open In Colab\"/></a>"
      ]
    },
    {
      "cell_type": "markdown",
      "metadata": {
        "id": "eDJc2DburPFD",
        "colab_type": "text"
      },
      "source": [
        "## Задание:"
      ]
    },
    {
      "cell_type": "markdown",
      "metadata": {
        "id": "v5FyC_cVrPFF",
        "colab_type": "text"
      },
      "source": [
        "... если вы в какой-то момент застряли, переходите к следующей задаче. \n",
        "\n",
        "Если совсем тяжело, посмотрите курс по Python (там же numpy и pandas) на Степике: https://stepik.org/course/Программирование-на-Python-67"
      ]
    },
    {
      "cell_type": "markdown",
      "metadata": {
        "id": "qMNkL-3irPFF",
        "colab_type": "text"
      },
      "source": [
        "##### 0. Нулевая задача: выполните эту ячейку:"
      ]
    },
    {
      "cell_type": "code",
      "metadata": {
        "ExecuteTime": {
          "end_time": "2018-07-23T14:03:44.075979Z",
          "start_time": "2018-07-23T14:03:43.698425Z"
        },
        "id": "0vA_BQHxrPFG",
        "colab_type": "code",
        "colab": {}
      },
      "source": [
        "# автоматическое отображение изображений в ноутбуке\n",
        "%matplotlib inline\n",
        "\n",
        "# чтобы писать np.array вместо numpy.array\n",
        "import numpy as np\n",
        "\n",
        "# plt - модуль для рисования графиков\n",
        "import matplotlib.pyplot as plt"
      ],
      "execution_count": 0,
      "outputs": []
    },
    {
      "cell_type": "markdown",
      "metadata": {
        "id": "q_uc9SqbrPFK",
        "colab_type": "text"
      },
      "source": [
        "##### 1. (1 балл) Что больше, $\\pi^e$ или $e^\\pi$? Выведете результат $\\pi^e > e^\\pi$ \n",
        "\n",
        "Воспользуйтесь встроенными константами np.pi и np.e"
      ]
    },
    {
      "cell_type": "code",
      "metadata": {
        "id": "KvwOJVXLrPFK",
        "colab_type": "code",
        "outputId": "1b8ae589-b3f9-49b4-ac74-e8237f1b5db2",
        "colab": {
          "base_uri": "https://localhost:8080/",
          "height": 34
        }
      },
      "source": [
        "np.pi**(np.e) > np.e**(np.pi)"
      ],
      "execution_count": 0,
      "outputs": [
        {
          "output_type": "execute_result",
          "data": {
            "text/plain": [
              "False"
            ]
          },
          "metadata": {
            "tags": []
          },
          "execution_count": 4
        }
      ]
    },
    {
      "cell_type": "markdown",
      "metadata": {
        "id": "dgl5ORJWrPFM",
        "colab_type": "text"
      },
      "source": [
        "##### 2. (4 балла) Фильтрация элементов в массиве\n",
        "\n",
        "(1 балл) Создайте массив из последовательности чисел от 1 до 10 (функция <a href=\"https://docs.scipy.org/doc/numpy/reference/generated/numpy.arange.html\">np.arange</a>)\n",
        "\n",
        "(1 балл) Выведите этот массив в обратном порядке. \n",
        "\n",
        "(1 балл) Выведите каждый второй элемент. \n",
        "\n",
        "(1 балл) Выведите элементы, большие числа 3. (<a href=\"https://docs.scipy.org/doc/numpy/reference/arrays.indexing.html\">numpy indexing tutorial</a>)"
      ]
    },
    {
      "cell_type": "code",
      "metadata": {
        "id": "D4YBDZ_DrPFN",
        "colab_type": "code",
        "outputId": "0d95dfc8-1c54-43ec-c720-af3d1e33335b",
        "colab": {
          "base_uri": "https://localhost:8080/",
          "height": 84
        }
      },
      "source": [
        "a = np.arange(1, 11)\n",
        "print(a)\n",
        "\n",
        "b = (a[::-1])\n",
        "print(b)\n",
        "\n",
        "print(b[1:11:2])\n",
        "\n",
        "mask = (b > 3)\n",
        "a1 = b[mask]    \n",
        "print(a1)\n",
        "\n"
      ],
      "execution_count": 0,
      "outputs": [
        {
          "output_type": "stream",
          "text": [
            "[ 1  2  3  4  5  6  7  8  9 10]\n",
            "[10  9  8  7  6  5  4  3  2  1]\n",
            "[9 7 5 3 1]\n",
            "[10  9  8  7  6  5  4]\n"
          ],
          "name": "stdout"
        }
      ]
    },
    {
      "cell_type": "markdown",
      "metadata": {
        "id": "MMq9e30hrPFQ",
        "colab_type": "text"
      },
      "source": [
        "##### 3. (4 балла) Операции с массивами\n",
        "\n",
        "(1 балл) Создайте 5 одномерных массивов длины 7: первый из единиц, второй из двоек и т.д.\n",
        "\n",
        "(1 балл) Объедините массивы с помощью функции <a href=\"https://docs.scipy.org/doc/numpy/reference/generated/numpy.vstack.html\">np.vstack</a> в матрицу A (на самом деле 2-мерный массив).\n",
        "\n",
        "(1 балл) Сделайте копию А с помощью <a href=\"https://docs.scipy.org/doc/numpy/reference/generated/numpy.copy.html\">np.copy</a> и назовите её B.\n",
        "\n",
        "(1 балл) Вычислите <a href=\"https://ru.wikipedia.org/wiki/Умножение_матриц\">матричное произведение</a> (оператор @) между матрицей A и B транспонированной (метод <a href=\"https://docs.scipy.org/doc/numpy-1.9.1/reference/generated/numpy.ndarray.T.html\">.T</a>).\n",
        "\n",
        "Выведите ответ."
      ]
    },
    {
      "cell_type": "code",
      "metadata": {
        "id": "d4xvmTF8rPFQ",
        "colab_type": "code",
        "outputId": "4d811af9-b7c7-4fc0-82aa-3eadf4f246be",
        "colab": {
          "base_uri": "https://localhost:8080/",
          "height": 185
        }
      },
      "source": [
        "a = [1] * 7\n",
        "b = [2] * 7\n",
        "c = [3] * 7\n",
        "d = [4] * 7\n",
        "e = [5] * 7\n",
        "\n",
        "A = np.vstack((a, b, c, d, e))\n",
        "print(A)\n",
        "\n",
        "B = np.copy(A)\n",
        "print(A@B.T)"
      ],
      "execution_count": 0,
      "outputs": [
        {
          "output_type": "stream",
          "text": [
            "[[1 1 1 1 1 1 1]\n",
            " [2 2 2 2 2 2 2]\n",
            " [3 3 3 3 3 3 3]\n",
            " [4 4 4 4 4 4 4]\n",
            " [5 5 5 5 5 5 5]]\n",
            "[[  7  14  21  28  35]\n",
            " [ 14  28  42  56  70]\n",
            " [ 21  42  63  84 105]\n",
            " [ 28  56  84 112 140]\n",
            " [ 35  70 105 140 175]]\n"
          ],
          "name": "stdout"
        }
      ]
    },
    {
      "cell_type": "markdown",
      "metadata": {
        "id": "0EmWZX5-rPFT",
        "colab_type": "text"
      },
      "source": [
        "##### 4. (2 балла) Max / min\n",
        "\n",
        "Найдите максимум и минимум массива A (методы <a href=\"https://docs.scipy.org/doc/numpy/reference/generated/numpy.ndarray.max.html\">.max</a> и <a href=\"https://docs.scipy.org/doc/numpy/reference/generated/numpy.ndarray.min.html\">.min</a> класса numpy.ndarray). Так же найдите максимумы в строках и столбцах (параметр axis)."
      ]
    },
    {
      "cell_type": "code",
      "metadata": {
        "id": "YKZvkEPIrPFT",
        "colab_type": "code",
        "outputId": "558aac5a-24e1-4a16-d8fa-f0f0bc5d8a85",
        "colab": {
          "base_uri": "https://localhost:8080/",
          "height": 50
        }
      },
      "source": [
        "minimum = A.min()\n",
        "maximum = A.max()\n",
        "print(minimum, maximum)\n",
        "\n",
        "maxaxis0 = A.max(axis = 0)\n",
        "maxaxis1 = A.max(axis = 1)\n",
        "print(maxaxis0, maxaxis1)"
      ],
      "execution_count": 0,
      "outputs": [
        {
          "output_type": "stream",
          "text": [
            "1 5\n",
            "[5 5 5 5 5 5 5] [1 2 3 4 5]\n"
          ],
          "name": "stdout"
        }
      ]
    },
    {
      "cell_type": "markdown",
      "metadata": {
        "id": "bZ4vj__FrPFW",
        "colab_type": "text"
      },
      "source": [
        "##### 5. (6 баллов) Индексирование*\n",
        "Напишите функцию, возвращающую максимальный элемент в векторе `x` среди элементов, перед которыми стоит число 0. <br>\n",
        "Для `x = np.array([6, 2, 0, 3, 0, 0, 5, 7, 0])` ответом является `5`. Если нулевых элементов нет, функция должна возвращать None.\n",
        "\n",
        "Для решения можно использовать функцию <a href=\"https://docs.scipy.org/doc/numpy/reference/generated/numpy.where.html\">np.where</a>. Эта функция может быть использована для получения индексов элементов в массиве, которые подчиняются логическому условию. Например:\n",
        "`np.where(np.array([1, 4, 7, 5, 2]) % 2 == 0)[0]` возвращает индексы четных элементов: `array([1, 4])`"
      ]
    },
    {
      "cell_type": "code",
      "metadata": {
        "id": "_ZCnypv-rPFW",
        "colab_type": "code",
        "outputId": "2dcf95f1-be8c-4d54-c952-3b06726529ab",
        "colab": {
          "base_uri": "https://localhost:8080/",
          "height": 34
        }
      },
      "source": [
        "x = np.array([6, 2, 0, 3, 0, 0, 5, 7, 0]) \n",
        "\n",
        "def vectik(x):\n",
        "  fol = \"\"\n",
        "  ind = np.where(x == 0)[0]\n",
        "  for i in range(len(ind) -1):\n",
        "      c = x[ind[i] + 1]\n",
        "      fol = fol + str(c) + \" \"\n",
        "  return(int(max(fol.split())))\n",
        "vectik(x)"
      ],
      "execution_count": 0,
      "outputs": [
        {
          "output_type": "execute_result",
          "data": {
            "text/plain": [
              "5"
            ]
          },
          "metadata": {
            "tags": []
          },
          "execution_count": 49
        }
      ]
    },
    {
      "cell_type": "markdown",
      "metadata": {
        "collapsed": true,
        "id": "sZKZ_i8FrPFY",
        "colab_type": "text"
      },
      "source": [
        "##### 6. (2 балла) Гистограмма значений\n",
        "Превратите матрицу A в 1D массив с помощью метода <a href=\"https://docs.scipy.org/doc/numpy/reference/generated/numpy.ndarray.flatten.html\">.flatten()</a> и выведите гистограмму значений результата с помощью функции <a href=\"https://matplotlib.org/devdocs/api/_as_gen/matplotlib.pyplot.hist.html\"> plt.hist()</a>. Она принимает на вход массив. Так же можно задать параметр `bins=100`, задающий количество столбиков гистограммы."
      ]
    },
    {
      "cell_type": "code",
      "metadata": {
        "id": "QpPNKkuIrPFZ",
        "colab_type": "code",
        "outputId": "92cdf8be-810f-45c4-f501-4ce38aa48d85",
        "colab": {
          "base_uri": "https://localhost:8080/",
          "height": 554
        }
      },
      "source": [
        "C = A.flatten()\n",
        "C\n",
        "plt.hist(C, bins = 100)"
      ],
      "execution_count": 0,
      "outputs": [
        {
          "output_type": "execute_result",
          "data": {
            "text/plain": [
              "(array([7., 0., 0., 0., 0., 0., 0., 0., 0., 0., 0., 0., 0., 0., 0., 0., 0.,\n",
              "        0., 0., 0., 0., 0., 0., 0., 0., 7., 0., 0., 0., 0., 0., 0., 0., 0.,\n",
              "        0., 0., 0., 0., 0., 0., 0., 0., 0., 0., 0., 0., 0., 0., 0., 0., 7.,\n",
              "        0., 0., 0., 0., 0., 0., 0., 0., 0., 0., 0., 0., 0., 0., 0., 0., 0.,\n",
              "        0., 0., 0., 0., 0., 0., 0., 7., 0., 0., 0., 0., 0., 0., 0., 0., 0.,\n",
              "        0., 0., 0., 0., 0., 0., 0., 0., 0., 0., 0., 0., 0., 0., 7.]),\n",
              " array([1.  , 1.04, 1.08, 1.12, 1.16, 1.2 , 1.24, 1.28, 1.32, 1.36, 1.4 ,\n",
              "        1.44, 1.48, 1.52, 1.56, 1.6 , 1.64, 1.68, 1.72, 1.76, 1.8 , 1.84,\n",
              "        1.88, 1.92, 1.96, 2.  , 2.04, 2.08, 2.12, 2.16, 2.2 , 2.24, 2.28,\n",
              "        2.32, 2.36, 2.4 , 2.44, 2.48, 2.52, 2.56, 2.6 , 2.64, 2.68, 2.72,\n",
              "        2.76, 2.8 , 2.84, 2.88, 2.92, 2.96, 3.  , 3.04, 3.08, 3.12, 3.16,\n",
              "        3.2 , 3.24, 3.28, 3.32, 3.36, 3.4 , 3.44, 3.48, 3.52, 3.56, 3.6 ,\n",
              "        3.64, 3.68, 3.72, 3.76, 3.8 , 3.84, 3.88, 3.92, 3.96, 4.  , 4.04,\n",
              "        4.08, 4.12, 4.16, 4.2 , 4.24, 4.28, 4.32, 4.36, 4.4 , 4.44, 4.48,\n",
              "        4.52, 4.56, 4.6 , 4.64, 4.68, 4.72, 4.76, 4.8 , 4.84, 4.88, 4.92,\n",
              "        4.96, 5.  ]),\n",
              " <a list of 100 Patch objects>)"
            ]
          },
          "metadata": {
            "tags": []
          },
          "execution_count": 56
        },
        {
          "output_type": "display_data",
          "data": {
            "image/png": "[encoded data removed]",
            "text/plain": [
              "<Figure size 432x288 with 1 Axes>"
            ]
          },
          "metadata": {
            "tags": []
          }
        }
      ]
    },
    {
      "cell_type": "markdown",
      "metadata": {
        "id": "z7WP1WXrrPFb",
        "colab_type": "text"
      },
      "source": [
        "##### 7. (6 баллов) Матожидание числа угадываний*\n",
        "\n",
        "Игорь и Лена играют в игру: Лена загадала число от 1 до 100, а Игорь угадывает. Игорь может называть число, а Лена отвечает \"да\", если число угадано правильно, и \"нет\" если это не так. Дважды спрашивать про одно и то же число нельзя (и не имеет смысла).\n",
        "\n",
        "За сколько в среднем попыток Игорь угадает число? Придумайте схему испытаний, проведите необходимое количество замеров. В ответе напишите матожидание (метод <a href=\"https://docs.scipy.org/doc/numpy-1.13.0/reference/generated/numpy.mean.html\">np.mean</a>), стандартное отклонение (метод <a href=\"https://docs.scipy.org/doc/numpy-1.13.0/reference/generated/numpy.std.html\">np.std</a>) и выведите гистограму полученных значений. "
      ]
    },
    {
      "cell_type": "code",
      "metadata": {
        "id": "FRGNoKczrPFd",
        "colab_type": "code",
        "colab": {}
      },
      "source": [
        ""
      ],
      "execution_count": 0,
      "outputs": []
    },
    {
      "cell_type": "markdown",
      "metadata": {
        "id": "LYc5ng1nrPFf",
        "colab_type": "text"
      },
      "source": [
        "<img src=\"http://imgs.xkcd.com/comics/psychic.png\">"
      ]
    }
  ]
}